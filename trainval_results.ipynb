{
 "cells": [
  {
   "cell_type": "code",
   "execution_count": 2,
   "metadata": {},
   "outputs": [
    {
     "output_type": "stream",
     "name": "stderr",
     "text": [
      "100%|██████████| 14/14 [00:00<00:00, 1055.53it/s]\n"
     ]
    },
    {
     "output_type": "display_data",
     "data": {
      "text/plain": "'Selected 8/12 experiments using \"filterby_list\" from savedir_base \"/mnt/public/results/minimal/debug\"'"
     },
     "metadata": {}
    },
    {
     "output_type": "display_data",
     "data": {
      "text/plain": "VBox(children=(Label(value='Select exp_group', layout=Layout(width='200px')), HBox(children=(Dropdown(layout=L…",
      "application/vnd.jupyter.widget-view+json": {
       "version_major": 2,
       "version_minor": 0,
       "model_id": "8528a205709f43bc95a834491689fd8e"
      }
     },
     "metadata": {}
    },
    {
     "output_type": "display_data",
     "data": {
      "text/plain": "VBox(children=(HBox(children=(Label(value='savedir_base:', layout=Layout(width='200px')), Text(value='/mnt/pub…",
      "application/vnd.jupyter.widget-view+json": {
       "version_major": 2,
       "version_minor": 0,
       "model_id": "615fdc9fe13b4ede9ff838181d4e4e3e"
      }
     },
     "metadata": {}
    },
    {
     "output_type": "display_data",
     "data": {
      "text/plain": "Output()",
      "application/vnd.jupyter.widget-view+json": {
       "version_major": 2,
       "version_minor": 0,
       "model_id": "bf1912ccf5244d938f1102c6b5093800"
      }
     },
     "metadata": {}
    },
    {
     "output_type": "display_data",
     "data": {
      "text/plain": "<IPython.core.display.HTML object>",
      "text/html": "<style>.container { width:100% !important; }</style>"
     },
     "metadata": {}
    },
    {
     "output_type": "display_data",
     "data": {
      "text/plain": "<IPython.core.display.HTML object>",
      "text/html": "\n        <style>\n            .output_scroll {\n                height: unset !important;\n                border-radius: unset !important;\n                -webkit-box-shadow: unset !important;\n                box-shadow: unset !important;\n            }\n        </style>\n        "
     },
     "metadata": {}
    },
    {
     "output_type": "execute_result",
     "data": {
      "text/plain": [
       "<haven.haven_jupyter.DashboardManager at 0x7f0fe0c26610>"
      ]
     },
     "metadata": {},
     "execution_count": 2
    }
   ],
   "source": [
    "\n",
    "from haven import haven_jupyter as hj\n",
    "from haven import haven_results as hr\n",
    "from haven import haven_utils as hu\n",
    "\n",
    "# path to where the experiments got saved\n",
    "savedir_base = '/mnt/public/results/minimal/debug'\n",
    "exp_list = None\n",
    "\n",
    "# filter exps\n",
    "# e.g. filterby_list =[{'dataset':'mnist'}] gets exps with mnist\n",
    "filterby_list = [{'dataset':'mnist'}]\n",
    "\n",
    "# get experiments\n",
    "rm = hr.ResultManager(exp_list=exp_list, \n",
    "                      savedir_base=savedir_base, \n",
    "                      filterby_list=filterby_list,\n",
    "                      verbose=0,\n",
    "                      exp_groups=None\n",
    "                     )\n",
    "\n",
    "# launch dashboard\n",
    "# make sure you have 'widgetsnbextension' enabled; \n",
    "# otherwise see README.md in https://github.com/haven-ai/haven-ai\n",
    "figsize = (16, 8)\n",
    "hj.get_dashboard(rm, vars(), wide_display=True, enable_datatables=False)\n",
    "          "
   ]
  },
  {
   "cell_type": "code",
   "execution_count": 2,
   "metadata": {},
   "outputs": [
    {
     "output_type": "execute_result",
     "data": {
      "text/plain": [
       "                               exp_id           started_at dataset      lr  \\\n",
       "3  '167b2f2c9a39fb98de66ae315defd5bd'                  nan   'syn'  0.0001   \n",
       "0  '7ca798a5c0fcb60096239b2baa4bea3d'  '10:22 AM (Nov 15)'   'syn'  0.0010   \n",
       "1  'a9491824f8c9ddc48560de7f88ca75bd'  '10:22 AM (Nov 15)'   'syn'  0.0001   \n",
       "2  'a77c96ee7a4b270c0741e03284c3fa9e'  '11:16 AM (Nov 16)'   'syn'  0.0010   \n",
       "\n",
       "      model  yours.lb yours.name  epoch       acc  acc (max)  acc (min)  \\\n",
       "3  'linear'       NaN        nan    NaN       NaN        NaN        NaN   \n",
       "0  'linear'       3.0    'hello'    2.0  0.363376   0.363376   0.168361   \n",
       "1  'linear'       3.0    'hello'    2.0  0.088938   0.088938   0.080612   \n",
       "2  'linear'       NaN        nan    9.0  0.467506   0.467506   0.135975   \n",
       "\n",
       "       loss  loss (max)  loss (min)  \n",
       "3       NaN         NaN         NaN  \n",
       "0  1.922072    2.298452    1.922072  \n",
       "1  2.381273    2.433072    2.381273  \n",
       "2  1.419730    2.377589    1.419730  "
      ],
      "text/html": "<div>\n<style scoped>\n    .dataframe tbody tr th:only-of-type {\n        vertical-align: middle;\n    }\n\n    .dataframe tbody tr th {\n        vertical-align: top;\n    }\n\n    .dataframe thead th {\n        text-align: right;\n    }\n</style>\n<table border=\"1\" class=\"dataframe\">\n  <thead>\n    <tr style=\"text-align: right;\">\n      <th></th>\n      <th>exp_id</th>\n      <th>started_at</th>\n      <th>dataset</th>\n      <th>lr</th>\n      <th>model</th>\n      <th>yours.lb</th>\n      <th>yours.name</th>\n      <th>epoch</th>\n      <th>acc</th>\n      <th>acc (max)</th>\n      <th>acc (min)</th>\n      <th>loss</th>\n      <th>loss (max)</th>\n      <th>loss (min)</th>\n    </tr>\n  </thead>\n  <tbody>\n    <tr>\n      <th>3</th>\n      <td>'167b2f2c9a39fb98de66ae315defd5bd'</td>\n      <td>nan</td>\n      <td>'syn'</td>\n      <td>0.0001</td>\n      <td>'linear'</td>\n      <td>NaN</td>\n      <td>nan</td>\n      <td>NaN</td>\n      <td>NaN</td>\n      <td>NaN</td>\n      <td>NaN</td>\n      <td>NaN</td>\n      <td>NaN</td>\n      <td>NaN</td>\n    </tr>\n    <tr>\n      <th>0</th>\n      <td>'7ca798a5c0fcb60096239b2baa4bea3d'</td>\n      <td>'10:22 AM (Nov 15)'</td>\n      <td>'syn'</td>\n      <td>0.0010</td>\n      <td>'linear'</td>\n      <td>3.0</td>\n      <td>'hello'</td>\n      <td>2.0</td>\n      <td>0.363376</td>\n      <td>0.363376</td>\n      <td>0.168361</td>\n      <td>1.922072</td>\n      <td>2.298452</td>\n      <td>1.922072</td>\n    </tr>\n    <tr>\n      <th>1</th>\n      <td>'a9491824f8c9ddc48560de7f88ca75bd'</td>\n      <td>'10:22 AM (Nov 15)'</td>\n      <td>'syn'</td>\n      <td>0.0001</td>\n      <td>'linear'</td>\n      <td>3.0</td>\n      <td>'hello'</td>\n      <td>2.0</td>\n      <td>0.088938</td>\n      <td>0.088938</td>\n      <td>0.080612</td>\n      <td>2.381273</td>\n      <td>2.433072</td>\n      <td>2.381273</td>\n    </tr>\n    <tr>\n      <th>2</th>\n      <td>'a77c96ee7a4b270c0741e03284c3fa9e'</td>\n      <td>'11:16 AM (Nov 16)'</td>\n      <td>'syn'</td>\n      <td>0.0010</td>\n      <td>'linear'</td>\n      <td>NaN</td>\n      <td>nan</td>\n      <td>9.0</td>\n      <td>0.467506</td>\n      <td>0.467506</td>\n      <td>0.135975</td>\n      <td>1.419730</td>\n      <td>2.377589</td>\n      <td>1.419730</td>\n    </tr>\n  </tbody>\n</table>\n</div>"
     },
     "metadata": {},
     "execution_count": 2
    }
   ],
   "source": [
    "rm.get_score_df()"
   ]
  }
 ],
 "metadata": {
  "kernelspec": {
   "display_name": "Python 3",
   "language": "python",
   "name": "python3"
  },
  "language_info": {
   "codemirror_mode": {
    "name": "ipython",
    "version": 3
   },
   "file_extension": ".py",
   "mimetype": "text/x-python",
   "name": "python",
   "nbconvert_exporter": "python",
   "pygments_lexer": "ipython3",
   "version": "3.7.6-final"
  }
 },
 "nbformat": 4,
 "nbformat_minor": 4
}